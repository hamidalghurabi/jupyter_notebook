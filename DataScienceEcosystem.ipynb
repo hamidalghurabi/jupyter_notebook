{
 "cells": [
  {
   "cell_type": "markdown",
   "id": "97d21764-ca44-457e-85af-7452bdf5cf9e",
   "metadata": {},
   "source": [
    "# Data Science Tools and Ecosystem"
   ]
  },
  {
   "cell_type": "markdown",
   "id": "743c60fb-6fe6-4901-86c7-8307caf56fb2",
   "metadata": {},
   "source": [
    "In this notebook, Data Science Tools and Ecosystem are summarized."
   ]
  },
  {
   "cell_type": "markdown",
   "id": "110c7be3-dd39-4da2-9c2e-fe447d3c6f17",
   "metadata": {},
   "source": [
    "Some of the popular languages that Data Scientists use are:\r\n",
    "\r\n",
    "1. Python\r\n",
    "2. R\r\n",
    "3. SQL\r\n"
   ]
  },
  {
   "cell_type": "markdown",
   "id": "c9404887-bea4-46ee-85bb-c3b2bfade0c0",
   "metadata": {},
   "source": [
    "Some of the commonly used libraries used by Data Scientists include:\n",
    "\n",
    "1. NumPy\n",
    "2. Pandas\n",
    "3. Matplotlib\n",
    "4. Scikit-learn"
   ]
  },
  {
   "cell_type": "markdown",
   "id": "c8078442-cf52-4d1e-a7b1-f2f6e87e2dd6",
   "metadata": {},
   "source": [
    "| Data Science Tools |\n",
    "|--------------------|\n",
    "| Jupyter Notebook   |\n",
    "| RStudio            |\n",
    "| Spyder             |\n"
   ]
  },
  {
   "cell_type": "markdown",
   "id": "24dc5101-1c9d-4df4-a7a8-1f8f40dcba4d",
   "metadata": {},
   "source": [
    "### Below are a few examples of evaluating arithmetic expressions in Python."
   ]
  },
  {
   "cell_type": "code",
   "execution_count": 49,
   "id": "8f755e7b-7181-4513-a082-95386b9af783",
   "metadata": {},
   "outputs": [
    {
     "data": {
      "text/plain": [
       "17"
      ]
     },
     "execution_count": 49,
     "metadata": {},
     "output_type": "execute_result"
    }
   ],
   "source": [
    "# This is a simple arithmetic expression to multiply then add integers\n",
    "Result = (3 * 4) + 5\n",
    "Result\n"
   ]
  },
  {
   "cell_type": "code",
   "execution_count": 47,
   "id": "121649b9-38e4-44f8-b018-15bb3cdcdab6",
   "metadata": {},
   "outputs": [
    {
     "data": {
      "text/plain": [
       "3.3333333333333335"
      ]
     },
     "execution_count": 47,
     "metadata": {},
     "output_type": "execute_result"
    }
   ],
   "source": [
    "# his will convert 200 minutes to hours by diving by 60\n",
    "hours = 200 / 60\n",
    "hours"
   ]
  },
  {
   "cell_type": "markdown",
   "id": "5cb636f5-262b-4f8c-b8d4-171213f8301c",
   "metadata": {},
   "source": [
    "**Objectives:**\n",
    "\n",
    "- List popular languages for Data Science\n",
    "- Understand how to evaluate arithmetic expressions in Python\n",
    "- Convert time units (e.g., minutes to hours)\n",
    "- Learn how to use development environment tools in data science\n",
    "- Create and format tables in markdown\n"
   ]
  },
  {
   "cell_type": "markdown",
   "id": "f43ea264-fe54-48ab-a9c1-cceb90285655",
   "metadata": {},
   "source": [
    "## Author\n",
    "Hamid Alghurabi\n"
   ]
  }
 ],
 "metadata": {
  "kernelspec": {
   "display_name": "Python 3 (ipykernel)",
   "language": "python",
   "name": "python3"
  },
  "language_info": {
   "codemirror_mode": {
    "name": "ipython",
    "version": 3
   },
   "file_extension": ".py",
   "mimetype": "text/x-python",
   "name": "python",
   "nbconvert_exporter": "python",
   "pygments_lexer": "ipython3",
   "version": "3.12.4"
  }
 },
 "nbformat": 4,
 "nbformat_minor": 5
}
